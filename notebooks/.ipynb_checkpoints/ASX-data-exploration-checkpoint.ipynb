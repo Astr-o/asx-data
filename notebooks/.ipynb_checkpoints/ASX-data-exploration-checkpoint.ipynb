{
 "cells": [
  {
   "cell_type": "markdown",
   "metadata": {},
   "source": [
    "# ASX Data Exploration"
   ]
  },
  {
   "cell_type": "code",
   "execution_count": 1,
   "metadata": {},
   "outputs": [],
   "source": [
    "import pandas as pd\n",
    "import matplotlib.pyplot as plt\n",
    "import numpy as np"
   ]
  },
  {
   "cell_type": "markdown",
   "metadata": {},
   "source": [
    "## Data Source\n",
    "\n",
    "https://www.asxhistoricaldata.com/ - extracted 28-10-2018\n",
    "\n",
    "### Data Format\n",
    "End-of-Day (EOD) .txt file grouped by week.\n",
    "\n",
    "Comma separated Ticker, Date, Open, High, Low, Close, Volume. "
   ]
  },
  {
   "cell_type": "code",
   "execution_count": 9,
   "metadata": {},
   "outputs": [
    {
     "name": "stdout",
     "output_type": "stream",
     "text": [
      "total 176268\r\n",
      "drwxr-xr-x 3 jovyan users        96 Oct 28 03:30 .\r\n",
      "drwxr-xr-x 9 jovyan users       288 Oct 28 03:42 ..\r\n",
      "-rw-r--r-- 1 jovyan users 180495448 Oct 28 03:30 complete-2018-10-28.txt\r\n"
     ]
    }
   ],
   "source": [
    "!ls -la ../data"
   ]
  },
  {
   "cell_type": "code",
   "execution_count": 14,
   "metadata": {},
   "outputs": [],
   "source": [
    "asx_historical = pd.read_csv('../data/complete-2018-10-28.txt', names=['ticker', 'date', 'open', 'high', 'low', 'close', 'volume'])"
   ]
  },
  {
   "cell_type": "code",
   "execution_count": 15,
   "metadata": {},
   "outputs": [
    {
     "data": {
      "text/html": [
       "<div>\n",
       "<style scoped>\n",
       "    .dataframe tbody tr th:only-of-type {\n",
       "        vertical-align: middle;\n",
       "    }\n",
       "\n",
       "    .dataframe tbody tr th {\n",
       "        vertical-align: top;\n",
       "    }\n",
       "\n",
       "    .dataframe thead th {\n",
       "        text-align: right;\n",
       "    }\n",
       "</style>\n",
       "<table border=\"1\" class=\"dataframe\">\n",
       "  <thead>\n",
       "    <tr style=\"text-align: right;\">\n",
       "      <th></th>\n",
       "      <th>ticker</th>\n",
       "      <th>date</th>\n",
       "      <th>open</th>\n",
       "      <th>high</th>\n",
       "      <th>low</th>\n",
       "      <th>close</th>\n",
       "      <th>volume</th>\n",
       "    </tr>\n",
       "  </thead>\n",
       "  <tbody>\n",
       "    <tr>\n",
       "      <th>0</th>\n",
       "      <td>AAC</td>\n",
       "      <td>20070102</td>\n",
       "      <td>1.850</td>\n",
       "      <td>1.91</td>\n",
       "      <td>1.825</td>\n",
       "      <td>1.910</td>\n",
       "      <td>204866</td>\n",
       "    </tr>\n",
       "    <tr>\n",
       "      <th>1</th>\n",
       "      <td>AAE</td>\n",
       "      <td>20070102</td>\n",
       "      <td>0.390</td>\n",
       "      <td>0.40</td>\n",
       "      <td>0.380</td>\n",
       "      <td>0.395</td>\n",
       "      <td>78214</td>\n",
       "    </tr>\n",
       "    <tr>\n",
       "      <th>2</th>\n",
       "      <td>AAM</td>\n",
       "      <td>20070102</td>\n",
       "      <td>0.195</td>\n",
       "      <td>0.21</td>\n",
       "      <td>0.195</td>\n",
       "      <td>0.210</td>\n",
       "      <td>275000</td>\n",
       "    </tr>\n",
       "    <tr>\n",
       "      <th>3</th>\n",
       "      <td>AAN</td>\n",
       "      <td>20070102</td>\n",
       "      <td>11.800</td>\n",
       "      <td>11.81</td>\n",
       "      <td>11.540</td>\n",
       "      <td>11.590</td>\n",
       "      <td>489472</td>\n",
       "    </tr>\n",
       "    <tr>\n",
       "      <th>4</th>\n",
       "      <td>AAO</td>\n",
       "      <td>20070102</td>\n",
       "      <td>0.140</td>\n",
       "      <td>0.18</td>\n",
       "      <td>0.140</td>\n",
       "      <td>0.180</td>\n",
       "      <td>540505</td>\n",
       "    </tr>\n",
       "  </tbody>\n",
       "</table>\n",
       "</div>"
      ],
      "text/plain": [
       "  ticker      date    open   high     low   close  volume\n",
       "0    AAC  20070102   1.850   1.91   1.825   1.910  204866\n",
       "1    AAE  20070102   0.390   0.40   0.380   0.395   78214\n",
       "2    AAM  20070102   0.195   0.21   0.195   0.210  275000\n",
       "3    AAN  20070102  11.800  11.81  11.540  11.590  489472\n",
       "4    AAO  20070102   0.140   0.18   0.140   0.180  540505"
      ]
     },
     "execution_count": 15,
     "metadata": {},
     "output_type": "execute_result"
    }
   ],
   "source": [
    "asx_historical.head()"
   ]
  },
  {
   "cell_type": "code",
   "execution_count": 17,
   "metadata": {},
   "outputs": [
    {
     "data": {
      "text/plain": [
       "ticker     object\n",
       "date        int64\n",
       "open      float64\n",
       "high      float64\n",
       "low       float64\n",
       "close     float64\n",
       "volume      int64\n",
       "dtype: object"
      ]
     },
     "execution_count": 17,
     "metadata": {},
     "output_type": "execute_result"
    }
   ],
   "source": [
    "asx_historical.dtypes"
   ]
  },
  {
   "cell_type": "code",
   "execution_count": null,
   "metadata": {},
   "outputs": [],
   "source": []
  }
 ],
 "metadata": {
  "kernelspec": {
   "display_name": "Python 3",
   "language": "python",
   "name": "python3"
  },
  "language_info": {
   "codemirror_mode": {
    "name": "ipython",
    "version": 3
   },
   "file_extension": ".py",
   "mimetype": "text/x-python",
   "name": "python",
   "nbconvert_exporter": "python",
   "pygments_lexer": "ipython3",
   "version": "3.6.5"
  }
 },
 "nbformat": 4,
 "nbformat_minor": 2
}
